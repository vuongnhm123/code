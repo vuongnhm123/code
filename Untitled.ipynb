{
 "cells": [
  {
   "cell_type": "code",
   "execution_count": 1,
   "id": "94ff7492-5e6d-4d62-921b-d48324f50451",
   "metadata": {},
   "outputs": [
    {
     "name": "stdin",
     "output_type": "stream",
     "text": [
      " 10\n"
     ]
    },
    {
     "name": "stdout",
     "output_type": "stream",
     "text": [
      "số chẵn\n"
     ]
    }
   ],
   "source": [
    "a = input()\n",
    "a = float(a)\n",
    "if a % 2 == 0:\n",
    "    print('số chẵn')\n",
    "elif a % 2 == 1:\n",
    "    print('số lẻ')\n",
    "else:\n",
    "    print('không phải số tự nhiên')"
   ]
  },
  {
   "cell_type": "code",
   "execution_count": null,
   "id": "b0875ecb-6e86-4672-9a78-18cf9ecc9252",
   "metadata": {},
   "outputs": [],
   "source": []
  }
 ],
 "metadata": {
  "kernelspec": {
   "display_name": "Python 3 (ipykernel)",
   "language": "python",
   "name": "python3"
  },
  "language_info": {
   "codemirror_mode": {
    "name": "ipython",
    "version": 3
   },
   "file_extension": ".py",
   "mimetype": "text/x-python",
   "name": "python",
   "nbconvert_exporter": "python",
   "pygments_lexer": "ipython3",
   "version": "3.12.4"
  }
 },
 "nbformat": 4,
 "nbformat_minor": 5
}
